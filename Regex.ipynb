{
 "cells": [
  {
   "cell_type": "markdown",
   "metadata": {},
   "source": [
    "# RegEx (Regular expression)"
   ]
  },
  {
   "attachments": {},
   "cell_type": "markdown",
   "metadata": {},
   "source": [
    "<a href="https://postimg.cc/zVQy9K8B">link text</a>"
   ]
  },
  {
   "cell_type": "code",
   "execution_count": 18,
   "metadata": {},
   "outputs": [],
   "source": [
    "import re"
   ]
  },
  {
   "cell_type": "code",
   "execution_count": 21,
   "metadata": {},
   "outputs": [],
   "source": [
    "Nameage = \"\"\"\n",
    "Pawan is 27 and Karthik is 24\n",
    "Hemanth is 25 and Yash is 26\n",
    "\"\"\"\n",
    "\n",
    "ages = re.findall(r'\\d{1,3}',Nameage) # to find digits max 1-3 length\n",
    "names = re.findall(r'[A-Z][a-z]*',Nameage) # find string  Starts with Capital letter (A to Z)"
   ]
  },
  {
   "cell_type": "code",
   "execution_count": 28,
   "metadata": {},
   "outputs": [],
   "source": [
    "ageDict = {}\n",
    "x = 0\n",
    "for eachname in names:\n",
    "    ageDict[eachname] = ages[x]\n",
    "    x += 1\n",
    "    "
   ]
  },
  {
   "cell_type": "code",
   "execution_count": 29,
   "metadata": {},
   "outputs": [
    {
     "name": "stdout",
     "output_type": "stream",
     "text": [
      "{'Pawan': '27', 'Karthik': '24', 'Hemanth': '25', 'Yash': '26'}\n"
     ]
    }
   ],
   "source": [
    "print(ageDict)"
   ]
  },
  {
   "cell_type": "code",
   "execution_count": 30,
   "metadata": {},
   "outputs": [],
   "source": [
    "# Cross checking if code working fine"
   ]
  },
  {
   "cell_type": "code",
   "execution_count": 31,
   "metadata": {},
   "outputs": [],
   "source": [
    "a = {}\n",
    "a['pawan'] = 45"
   ]
  },
  {
   "cell_type": "code",
   "execution_count": 32,
   "metadata": {},
   "outputs": [
    {
     "data": {
      "text/plain": [
       "{'pawan': 45}"
      ]
     },
     "execution_count": 32,
     "metadata": {},
     "output_type": "execute_result"
    }
   ],
   "source": [
    "a"
   ]
  },
  {
   "cell_type": "code",
   "execution_count": 33,
   "metadata": {},
   "outputs": [
    {
     "data": {
      "text/plain": [
       "dict"
      ]
     },
     "execution_count": 33,
     "metadata": {},
     "output_type": "execute_result"
    }
   ],
   "source": [
    "type(a)"
   ]
  },
  {
   "cell_type": "markdown",
   "metadata": {},
   "source": [
    "### matching first string in second string"
   ]
  },
  {
   "cell_type": "code",
   "execution_count": 37,
   "metadata": {},
   "outputs": [
    {
     "name": "stdout",
     "output_type": "stream",
     "text": [
      "True\n"
     ]
    }
   ],
   "source": [
    "if re.search(\"inform\",\"we need to inform him with the latest information\"):\n",
    "    print(\"True\")"
   ]
  },
  {
   "cell_type": "markdown",
   "metadata": {},
   "source": [
    "### Findall return a list with macthes"
   ]
  },
  {
   "cell_type": "code",
   "execution_count": 38,
   "metadata": {},
   "outputs": [
    {
     "data": {
      "text/plain": [
       "['inform', 'inform']"
      ]
     },
     "execution_count": 38,
     "metadata": {},
     "output_type": "execute_result"
    }
   ],
   "source": [
    "re.findall(\"inform\",\"we need to inform him with the latest information\")"
   ]
  },
  {
   "cell_type": "markdown",
   "metadata": {},
   "source": [
    "### It will return the starting and ending index of matching object in form of tuple"
   ]
  },
  {
   "cell_type": "code",
   "execution_count": 48,
   "metadata": {},
   "outputs": [
    {
     "name": "stdout",
     "output_type": "stream",
     "text": [
      "(11, 17)\n",
      "<class 'tuple'>\n",
      "(38, 44)\n",
      "<class 'tuple'>\n"
     ]
    }
   ],
   "source": [
    "string = \"we need to inform him with the latest information\"\n",
    "\n",
    "for i in re.finditer(\"inform\",string):\n",
    "    loctup = i.span()\n",
    "    print(loctup)\n",
    "    print(type(loctup))"
   ]
  },
  {
   "cell_type": "code",
   "execution_count": 50,
   "metadata": {},
   "outputs": [
    {
     "name": "stdout",
     "output_type": "stream",
     "text": [
      "<re.Match object; span=(11, 17), match='inform'>\n",
      "(11, 17)\n",
      "<re.Match object; span=(38, 44), match='inform'>\n",
      "(38, 44)\n"
     ]
    }
   ],
   "source": [
    "for i in re.finditer(\"inform\",string):\n",
    "    print(i)\n",
    "    loctup = i.span()\n",
    "    print(loctup)"
   ]
  },
  {
   "cell_type": "markdown",
   "metadata": {},
   "source": [
    "## Finding a pattern"
   ]
  },
  {
   "cell_type": "code",
   "execution_count": 51,
   "metadata": {},
   "outputs": [
    {
     "name": "stdout",
     "output_type": "stream",
     "text": [
      "sat\n",
      "mat\n",
      "hat\n",
      "pat\n"
     ]
    }
   ],
   "source": [
    "text = \"sat,mat,hat,pat\" \n",
    "allstr = re.findall(\"[shmp]at\",text)\n",
    "\n",
    "for i in allstr:\n",
    "    print(i)\n",
    "    \n",
    "# Note: It is case sensitive be carefull with case"
   ]
  },
  {
   "cell_type": "markdown",
   "metadata": {},
   "source": [
    "###  By range"
   ]
  },
  {
   "cell_type": "code",
   "execution_count": 54,
   "metadata": {},
   "outputs": [
    {
     "name": "stdout",
     "output_type": "stream",
     "text": [
      "mat\n",
      "hat\n"
     ]
    }
   ],
   "source": [
    "text = \"sat,mat,hat,pat\" \n",
    "allstr = re.findall(\"[h-m]at\",text) # range between h-m in alphabetic order\n",
    "\n",
    "for i in allstr:\n",
    "    print(i)\n",
    "    \n",
    "# Note: It is case sensitive be carefull with case"
   ]
  },
  {
   "cell_type": "code",
   "execution_count": 55,
   "metadata": {},
   "outputs": [
    {
     "name": "stdout",
     "output_type": "stream",
     "text": [
      "sat\n",
      "mat\n",
      "hat\n",
      "pat\n"
     ]
    }
   ],
   "source": [
    "text = \"sat,mat,hat,pat\" \n",
    "allstr = re.findall(\"[a-z]at\",text) # range between a-z (all considered) in alphabetic order\n",
    "\n",
    "for i in allstr:\n",
    "    print(i)\n",
    "    \n",
    "# Note: It is case sensitive be carefull with case"
   ]
  },
  {
   "cell_type": "markdown",
   "metadata": {},
   "source": [
    "# ^ symbol using for exclude"
   ]
  },
  {
   "cell_type": "code",
   "execution_count": 56,
   "metadata": {},
   "outputs": [
    {
     "name": "stdout",
     "output_type": "stream",
     "text": [
      "sat\n",
      "pat\n"
     ]
    }
   ],
   "source": [
    "text = \"sat,mat,hat,pat\" \n",
    "allstr = re.findall(\"[^h-m]at\",text) # exclude alphabet in h-m range\n",
    "\n",
    "for i in allstr:\n",
    "    print(i)\n",
    "    \n",
    "# Note: It is case sensitive be carefull with case"
   ]
  },
  {
   "cell_type": "markdown",
   "metadata": {},
   "source": [
    "# substitute or repalce"
   ]
  },
  {
   "cell_type": "code",
   "execution_count": 52,
   "metadata": {},
   "outputs": [
    {
     "name": "stdout",
     "output_type": "stream",
     "text": [
      "['rat']\n",
      "hat mat pat food ragat rasat\n"
     ]
    }
   ],
   "source": [
    "food = \"hat mat pat rat ragat rasat\"\n",
    "\n",
    "regex = re.compile(\"[r]at\") #starting char is r and ending with at\n",
    "print(re.findall('[r]at',food))\n",
    "food = regex.sub(\"food\", food) # replace with food word\n",
    "print(food)"
   ]
  },
  {
   "cell_type": "code",
   "execution_count": null,
   "metadata": {},
   "outputs": [],
   "source": []
  },
  {
   "cell_type": "code",
   "execution_count": 64,
   "metadata": {},
   "outputs": [
    {
     "name": "stdout",
     "output_type": "stream",
     "text": [
      "['rat']\n",
      "replaced replaced replaced replaced ragat rasat\n"
     ]
    }
   ],
   "source": [
    "food = \"hat mat pat rat ragat rasat\"\n",
    "\n",
    "regex = re.compile(\"[rmph]at\") #starting char is r/m/p/h and then at\n",
    "print(re.findall('[r]at',food))\n",
    "food = regex.sub(\"replaced\", food) # replace with food word\n",
    "print(food)"
   ]
  },
  {
   "cell_type": "code",
   "execution_count": 71,
   "metadata": {},
   "outputs": [
    {
     "name": "stdout",
     "output_type": "stream",
     "text": [
      "['at', 'at', 'at', 'rat', 'at', 'at']\n",
      "replaced replaced replaced  @ replaced ragreplaced rasreplaced\n"
     ]
    }
   ],
   "source": [
    "food = \"hat mat pat  @ rat ragat rasat\"\n",
    "\n",
    "regex = re.compile(\"[rmph]*at\") #starting char is r/m/p/h + anything + at\n",
    "print(re.findall('[r]*at',food))\n",
    "food = regex.sub(\"replaced\", food) # replace with food word\n",
    "print(food)"
   ]
  },
  {
   "cell_type": "markdown",
   "metadata": {},
   "source": [
    "# regex search , searched everything"
   ]
  },
  {
   "cell_type": "code",
   "execution_count": 72,
   "metadata": {},
   "outputs": [
    {
     "name": "stdout",
     "output_type": "stream",
     "text": [
      "here is \\drogba\n"
     ]
    }
   ],
   "source": [
    "randstr = \"here is \\\\drogba\"\n",
    "print(randstr)"
   ]
  },
  {
   "cell_type": "code",
   "execution_count": 73,
   "metadata": {},
   "outputs": [
    {
     "name": "stdout",
     "output_type": "stream",
     "text": [
      "<re.Match object; span=(8, 15), match='\\\\drogba'>\n"
     ]
    }
   ],
   "source": [
    "print(re.search(r\"\\\\drogba\",randstr))"
   ]
  },
  {
   "cell_type": "markdown",
   "metadata": {},
   "source": [
    "# workout with space and lines"
   ]
  },
  {
   "cell_type": "code",
   "execution_count": 75,
   "metadata": {},
   "outputs": [
    {
     "name": "stdout",
     "output_type": "stream",
     "text": [
      "\n",
      "keep the blue flag\n",
      "flying high\n",
      "chelsea\n",
      "\n",
      "re.compile('\\n')\n",
      " keep the blue flag flying high chelsea \n"
     ]
    }
   ],
   "source": [
    "text = '''\n",
    "keep the blue flag\n",
    "flying high\n",
    "chelsea\n",
    "'''\n",
    "print(text)\n",
    "\n",
    "regex = re.compile('\\n')\n",
    "print(regex)\n",
    "new_text = regex.sub(\" \",text)\n",
    "print(new_text) # Now all lines will come in one line"
   ]
  },
  {
   "cell_type": "markdown",
   "metadata": {},
   "source": [
    "# Matches with number/ not number\n",
    "- \\d for number\n",
    "- \\D except numbers"
   ]
  },
  {
   "cell_type": "code",
   "execution_count": 80,
   "metadata": {},
   "outputs": [
    {
     "name": "stdout",
     "output_type": "stream",
     "text": [
      "total Matches:  ['1', '2', '3', '4']\n",
      "total Matches:  4\n"
     ]
    }
   ],
   "source": [
    "randstr = \"abc1234\"\n",
    "\n",
    "print(\"total Matches: \",re.findall(\"\\d\",randstr))  # searching for numbers in given string\n",
    "\n",
    "print(\"total Matches: \",len(re.findall(\"\\d\",randstr)))\n"
   ]
  },
  {
   "cell_type": "code",
   "execution_count": 82,
   "metadata": {},
   "outputs": [
    {
     "name": "stdout",
     "output_type": "stream",
     "text": [
      "total Matches:  ['a', 'b', 'c', '!', '@', '$']\n",
      "total Matches:  6\n"
     ]
    }
   ],
   "source": [
    "randstr = \"abc!@1234$\"\n",
    "\n",
    "print(\"total Matches: \",(re.findall(\"\\D\",randstr))) # searching except numbers\n",
    "\n",
    "print(\"total Matches: \",len(re.findall(\"\\D\",randstr))) # searching except numbers"
   ]
  },
  {
   "cell_type": "code",
   "execution_count": 93,
   "metadata": {},
   "outputs": [
    {
     "name": "stdout",
     "output_type": "stream",
     "text": [
      "Given String - abc!@12342\n",
      "total Matches:  ['1', '2', '3', '4', '2']\n",
      "total Matches:  5\n",
      "total Matches:  ['12', '34']\n",
      "total Matches:  2\n",
      "total Matches:  ['123']\n",
      "total Matches:  1\n"
     ]
    }
   ],
   "source": [
    "randstr = \"abc!@12342\"\n",
    "\n",
    "print(f\"Given String - {randstr}\")\n",
    "\n",
    "print(\"total Matches: \",(re.findall(\"\\d{1}\",randstr))) # searching number with 1 digits\n",
    "\n",
    "print(\"total Matches: \",len(re.findall(\"\\d{1}\",randstr))) # searching for number with 1 digits\n",
    "\n",
    "# ------------------------------------------------------------------------------------------------------------\n",
    "\n",
    "print(\"total Matches: \",(re.findall(\"\\d{2}\",randstr))) # searching number with 2 digits\n",
    "\n",
    "print(\"total Matches: \",len(re.findall(\"\\d{2}\",randstr))) # searching for number with 2 digits\n",
    "\n",
    "# ------------------------------------------------------------------------------------------------------------\n",
    "\n",
    "print(\"total Matches: \",(re.findall(\"\\d{3}\",randstr))) # searching number with 3 digits\n",
    "\n",
    "print(\"total Matches: \",len(re.findall(\"\\d{3}\",randstr))) # searching for number with 3 digits\n"
   ]
  },
  {
   "cell_type": "code",
   "execution_count": 97,
   "metadata": {},
   "outputs": [
    {
     "name": "stdout",
     "output_type": "stream",
     "text": [
      "Matches:  ['11234', '12345', '123456', '1234567']\n",
      "Matches:  4\n"
     ]
    }
   ],
   "source": [
    "num = \"123 11234 12345 123456 1234567\"\n",
    "\n",
    "print(\"Matches: \",re.findall(\"\\d{5,7}\",num)) # 1st it will searching for 5 digit then 6 digits then 7 digits\n",
    "\n",
    "print(\"Matches: \",len(re.findall(\"\\d{5,7}\",num)))"
   ]
  },
  {
   "cell_type": "markdown",
   "metadata": {},
   "source": [
    "# Phone number recognition"
   ]
  },
  {
   "cell_type": "code",
   "execution_count": 102,
   "metadata": {},
   "outputs": [
    {
     "name": "stdout",
     "output_type": "stream",
     "text": [
      "it is phone number\n"
     ]
    }
   ],
   "source": [
    "phn = \"123-466-1254\" # Pattern\n",
    "\n",
    "if re.search(\"\\d{3}-\\d{3}-\\d{4}\",phn):\n",
    "    print(\"it is phone number\")"
   ]
  },
  {
   "cell_type": "markdown",
   "metadata": {},
   "source": [
    "# full name validation"
   ]
  },
  {
   "cell_type": "code",
   "execution_count": 107,
   "metadata": {},
   "outputs": [
    {
     "name": "stdout",
     "output_type": "stream",
     "text": [
      "full name is valid\n"
     ]
    }
   ],
   "source": [
    "if re.search(\"\\w{2,20}\\s\\w{2,20}\",\"Pawan Yadav\"): #\\s stands for space and w for anything\n",
    "    \n",
    "    print(\"full name is valid\")"
   ]
  },
  {
   "cell_type": "markdown",
   "metadata": {},
   "source": [
    "# email validation"
   ]
  },
  {
   "cell_type": "code",
   "execution_count": 96,
   "metadata": {},
   "outputs": [
    {
     "name": "stdout",
     "output_type": "stream",
     "text": [
      "valid email\n"
     ]
    }
   ],
   "source": [
    "email = \"1abc@gmail.com\"\n",
    "\n",
    "if re.search(\"[\\w._%+-]{1,20}@[a-zA-z].[a-z]{2,3}\",email):\n",
    "    print(\"valid email\")\n",
    "else:\n",
    "    print(\"not valid email\")"
   ]
  },
  {
   "cell_type": "code",
   "execution_count": null,
   "metadata": {},
   "outputs": [],
   "source": []
  }
 ],
 "metadata": {
  "kernelspec": {
   "display_name": "Python 3",
   "language": "python",
   "name": "python3"
  },
  "language_info": {
   "codemirror_mode": {
    "name": "ipython",
    "version": 3
   },
   "file_extension": ".py",
   "mimetype": "text/x-python",
   "name": "python",
   "nbconvert_exporter": "python",
   "pygments_lexer": "ipython3",
   "version": "3.7.3"
  }
 },
 "nbformat": 4,
 "nbformat_minor": 2
}
