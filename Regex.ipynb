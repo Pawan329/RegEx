{
 "cells": [
  {
   "cell_type": "markdown",
   "metadata": {},
   "source": [
    "# RegEx (Regular expression)"
   ]
  },
  {
   "cell_type": "code",
   "execution_count": 112,
   "metadata": {},
   "outputs": [],
   "source": [
    "import pandas as pd\n",
    "pd.set_option('display.max_colwidth', -1)"
   ]
  },
  {
   "cell_type": "code",
   "execution_count": 123,
   "metadata": {},
   "outputs": [],
   "source": [
    "df = pd.read_excel('RegEx.xlsx', index_col=False)"
   ]
  },
  {
   "cell_type": "code",
   "execution_count": 134,
   "metadata": {},
   "outputs": [
    {
     "data": {
      "text/html": [
       "<div>\n",
       "<style scoped>\n",
       "    .dataframe tbody tr th:only-of-type {\n",
       "        vertical-align: middle;\n",
       "    }\n",
       "\n",
       "    .dataframe tbody tr th {\n",
       "        vertical-align: top;\n",
       "    }\n",
       "\n",
       "    .dataframe thead th {\n",
       "        text-align: right;\n",
       "    }\n",
       "</style>\n",
       "<table border=\"1\" class=\"dataframe\">\n",
       "  <thead>\n",
       "    <tr style=\"text-align: right;\">\n",
       "      <th></th>\n",
       "      <th>Character</th>\n",
       "      <th>Description</th>\n",
       "      <th>Example</th>\n",
       "    </tr>\n",
       "  </thead>\n",
       "  <tbody>\n",
       "    <tr>\n",
       "      <th>0</th>\n",
       "      <td>[]</td>\n",
       "      <td>A set of characters</td>\n",
       "      <td>\"[a-m]\"</td>\n",
       "    </tr>\n",
       "    <tr>\n",
       "      <th>1</th>\n",
       "      <td>\\</td>\n",
       "      <td>Signals a special sequence (can also be used to escape special characters)</td>\n",
       "      <td>\"\\d\"</td>\n",
       "    </tr>\n",
       "    <tr>\n",
       "      <th>2</th>\n",
       "      <td>.</td>\n",
       "      <td>Any character (except newline character)</td>\n",
       "      <td>\"he..o\"</td>\n",
       "    </tr>\n",
       "    <tr>\n",
       "      <th>3</th>\n",
       "      <td>^</td>\n",
       "      <td>Starts with</td>\n",
       "      <td>\"^hello\"</td>\n",
       "    </tr>\n",
       "    <tr>\n",
       "      <th>4</th>\n",
       "      <td>$</td>\n",
       "      <td>Ends with</td>\n",
       "      <td>\"world$\"</td>\n",
       "    </tr>\n",
       "    <tr>\n",
       "      <th>5</th>\n",
       "      <td>*</td>\n",
       "      <td>Zero or more occurrences</td>\n",
       "      <td>\"aix*\"</td>\n",
       "    </tr>\n",
       "    <tr>\n",
       "      <th>6</th>\n",
       "      <td>+</td>\n",
       "      <td>One or more occurrences</td>\n",
       "      <td>\"aix+\"</td>\n",
       "    </tr>\n",
       "    <tr>\n",
       "      <th>7</th>\n",
       "      <td>{}</td>\n",
       "      <td>Exactly the specified number of occurrences</td>\n",
       "      <td>\"al{2}\"</td>\n",
       "    </tr>\n",
       "    <tr>\n",
       "      <th>8</th>\n",
       "      <td>|</td>\n",
       "      <td>Either or</td>\n",
       "      <td>\"falls|stays\"</td>\n",
       "    </tr>\n",
       "    <tr>\n",
       "      <th>9</th>\n",
       "      <td>()</td>\n",
       "      <td>Capture and group</td>\n",
       "      <td>NaN</td>\n",
       "    </tr>\n",
       "    <tr>\n",
       "      <th>10</th>\n",
       "      <td>NaN</td>\n",
       "      <td>NaN</td>\n",
       "      <td>NaN</td>\n",
       "    </tr>\n",
       "    <tr>\n",
       "      <th>11</th>\n",
       "      <td>NaN</td>\n",
       "      <td>NaN</td>\n",
       "      <td>NaN</td>\n",
       "    </tr>\n",
       "    <tr>\n",
       "      <th>12</th>\n",
       "      <td>Character</td>\n",
       "      <td>Description</td>\n",
       "      <td>Example</td>\n",
       "    </tr>\n",
       "    <tr>\n",
       "      <th>13</th>\n",
       "      <td>\\A</td>\n",
       "      <td>Returns a match if the specified characters are at the beginning of the string</td>\n",
       "      <td>\"\\AThe\"</td>\n",
       "    </tr>\n",
       "    <tr>\n",
       "      <th>14</th>\n",
       "      <td>\\b</td>\n",
       "      <td>Returns a match where the specified characters are at the beginning or at the end of a word</td>\n",
       "      <td>r\"\\bain\"</td>\n",
       "    </tr>\n",
       "    <tr>\n",
       "      <th>15</th>\n",
       "      <td>NaN</td>\n",
       "      <td>NaN</td>\n",
       "      <td>r\"ain\\b\"</td>\n",
       "    </tr>\n",
       "    <tr>\n",
       "      <th>16</th>\n",
       "      <td>\\B</td>\n",
       "      <td>Returns a match where the specified characters are present, but NOT at the beginning (or at the end) of a word</td>\n",
       "      <td>r\"\\Bain\"</td>\n",
       "    </tr>\n",
       "    <tr>\n",
       "      <th>17</th>\n",
       "      <td>NaN</td>\n",
       "      <td>NaN</td>\n",
       "      <td>r\"ain\\B\"</td>\n",
       "    </tr>\n",
       "    <tr>\n",
       "      <th>18</th>\n",
       "      <td>\\d</td>\n",
       "      <td>Returns a match where the string contains digits (numbers from 0-9)</td>\n",
       "      <td>\"\\d\"</td>\n",
       "    </tr>\n",
       "    <tr>\n",
       "      <th>19</th>\n",
       "      <td>\\D</td>\n",
       "      <td>Returns a match where the string DOES NOT contain digits</td>\n",
       "      <td>\"\\D\"</td>\n",
       "    </tr>\n",
       "    <tr>\n",
       "      <th>20</th>\n",
       "      <td>\\s</td>\n",
       "      <td>Returns a match where the string contains a white space character</td>\n",
       "      <td>\"\\s\"</td>\n",
       "    </tr>\n",
       "    <tr>\n",
       "      <th>21</th>\n",
       "      <td>\\S</td>\n",
       "      <td>Returns a match where the string DOES NOT contain a white space character</td>\n",
       "      <td>\"\\S\"</td>\n",
       "    </tr>\n",
       "    <tr>\n",
       "      <th>22</th>\n",
       "      <td>\\w</td>\n",
       "      <td>Returns a match where the string contains any word characters (characters from a to Z, digits from 0-9, and the underscore _ character)</td>\n",
       "      <td>\"\\w\"</td>\n",
       "    </tr>\n",
       "    <tr>\n",
       "      <th>23</th>\n",
       "      <td>\\W</td>\n",
       "      <td>Returns a match where the string DOES NOT contain any word characters</td>\n",
       "      <td>\"\\W\"</td>\n",
       "    </tr>\n",
       "    <tr>\n",
       "      <th>24</th>\n",
       "      <td>\\Z</td>\n",
       "      <td>Returns a match if the specified characters are at the end of the string</td>\n",
       "      <td>\"Spain\\Z\"</td>\n",
       "    </tr>\n",
       "    <tr>\n",
       "      <th>25</th>\n",
       "      <td>NaN</td>\n",
       "      <td>NaN</td>\n",
       "      <td>NaN</td>\n",
       "    </tr>\n",
       "    <tr>\n",
       "      <th>26</th>\n",
       "      <td>Sets</td>\n",
       "      <td>NaN</td>\n",
       "      <td>NaN</td>\n",
       "    </tr>\n",
       "    <tr>\n",
       "      <th>27</th>\n",
       "      <td>NaN</td>\n",
       "      <td>NaN</td>\n",
       "      <td>NaN</td>\n",
       "    </tr>\n",
       "    <tr>\n",
       "      <th>28</th>\n",
       "      <td>A set is a set of characters inside a pair of square brackets [] with a special meaning:</td>\n",
       "      <td>NaN</td>\n",
       "      <td>NaN</td>\n",
       "    </tr>\n",
       "    <tr>\n",
       "      <th>29</th>\n",
       "      <td>NaN</td>\n",
       "      <td>NaN</td>\n",
       "      <td>NaN</td>\n",
       "    </tr>\n",
       "    <tr>\n",
       "      <th>30</th>\n",
       "      <td>Set</td>\n",
       "      <td>Description</td>\n",
       "      <td>NaN</td>\n",
       "    </tr>\n",
       "    <tr>\n",
       "      <th>31</th>\n",
       "      <td>[arn]</td>\n",
       "      <td>Returns a match where one of the specified characters (a, r, or n) are present</td>\n",
       "      <td>NaN</td>\n",
       "    </tr>\n",
       "    <tr>\n",
       "      <th>32</th>\n",
       "      <td>[a-n]</td>\n",
       "      <td>Returns a match for any lower case character, alphabetically between a and n</td>\n",
       "      <td>NaN</td>\n",
       "    </tr>\n",
       "    <tr>\n",
       "      <th>33</th>\n",
       "      <td>[^arn]</td>\n",
       "      <td>Returns a match for any character EXCEPT a, r, and n</td>\n",
       "      <td>NaN</td>\n",
       "    </tr>\n",
       "    <tr>\n",
       "      <th>34</th>\n",
       "      <td>[0123]</td>\n",
       "      <td>Returns a match where any of the specified digits (0, 1, 2, or 3) are present</td>\n",
       "      <td>NaN</td>\n",
       "    </tr>\n",
       "    <tr>\n",
       "      <th>35</th>\n",
       "      <td>[0-9]</td>\n",
       "      <td>Returns a match for any digit between 0 and 9</td>\n",
       "      <td>NaN</td>\n",
       "    </tr>\n",
       "    <tr>\n",
       "      <th>36</th>\n",
       "      <td>[0-5][0-9]</td>\n",
       "      <td>Returns a match for any two-digit numbers from 00 and 59</td>\n",
       "      <td>NaN</td>\n",
       "    </tr>\n",
       "    <tr>\n",
       "      <th>37</th>\n",
       "      <td>[a-zA-Z]</td>\n",
       "      <td>Returns a match for any character alphabetically between a and z, lower case OR upper case</td>\n",
       "      <td>NaN</td>\n",
       "    </tr>\n",
       "    <tr>\n",
       "      <th>38</th>\n",
       "      <td>[+]</td>\n",
       "      <td>In sets, +, *, ., |, (), $,{} has no special meaning, so [+] means: return a match for any + character in the string</td>\n",
       "      <td>NaN</td>\n",
       "    </tr>\n",
       "  </tbody>\n",
       "</table>\n",
       "</div>"
      ],
      "text/plain": [
       "                                                                                   Character  \\\n",
       "0   []                                                                                         \n",
       "1   \\                                                                                          \n",
       "2   .                                                                                          \n",
       "3   ^                                                                                          \n",
       "4   $                                                                                          \n",
       "5   *                                                                                          \n",
       "6   +                                                                                          \n",
       "7   {}                                                                                         \n",
       "8   |                                                                                          \n",
       "9   ()                                                                                         \n",
       "10  NaN                                                                                        \n",
       "11  NaN                                                                                        \n",
       "12  Character                                                                                  \n",
       "13  \\A                                                                                         \n",
       "14  \\b                                                                                         \n",
       "15  NaN                                                                                        \n",
       "16  \\B                                                                                         \n",
       "17  NaN                                                                                        \n",
       "18  \\d                                                                                         \n",
       "19  \\D                                                                                         \n",
       "20  \\s                                                                                         \n",
       "21  \\S                                                                                         \n",
       "22  \\w                                                                                         \n",
       "23  \\W                                                                                         \n",
       "24  \\Z                                                                                         \n",
       "25  NaN                                                                                        \n",
       "26  Sets                                                                                       \n",
       "27  NaN                                                                                        \n",
       "28  A set is a set of characters inside a pair of square brackets [] with a special meaning:   \n",
       "29  NaN                                                                                        \n",
       "30  Set                                                                                        \n",
       "31  [arn]                                                                                      \n",
       "32  [a-n]                                                                                      \n",
       "33  [^arn]                                                                                     \n",
       "34  [0123]                                                                                     \n",
       "35  [0-9]                                                                                      \n",
       "36  [0-5][0-9]                                                                                 \n",
       "37  [a-zA-Z]                                                                                   \n",
       "38  [+]                                                                                        \n",
       "\n",
       "                                                                                                                                Description  \\\n",
       "0   A set of characters                                                                                                                       \n",
       "1   Signals a special sequence (can also be used to escape special characters)                                                                \n",
       "2   Any character (except newline character)                                                                                                  \n",
       "3   Starts with                                                                                                                               \n",
       "4   Ends with                                                                                                                                 \n",
       "5   Zero or more occurrences                                                                                                                  \n",
       "6   One or more occurrences                                                                                                                   \n",
       "7   Exactly the specified number of occurrences                                                                                               \n",
       "8   Either or                                                                                                                                 \n",
       "9   Capture and group                                                                                                                         \n",
       "10  NaN                                                                                                                                       \n",
       "11  NaN                                                                                                                                       \n",
       "12  Description                                                                                                                               \n",
       "13  Returns a match if the specified characters are at the beginning of the string                                                            \n",
       "14  Returns a match where the specified characters are at the beginning or at the end of a word                                               \n",
       "15  NaN                                                                                                                                       \n",
       "16  Returns a match where the specified characters are present, but NOT at the beginning (or at the end) of a word                            \n",
       "17  NaN                                                                                                                                       \n",
       "18  Returns a match where the string contains digits (numbers from 0-9)                                                                       \n",
       "19  Returns a match where the string DOES NOT contain digits                                                                                  \n",
       "20  Returns a match where the string contains a white space character                                                                         \n",
       "21  Returns a match where the string DOES NOT contain a white space character                                                                 \n",
       "22  Returns a match where the string contains any word characters (characters from a to Z, digits from 0-9, and the underscore _ character)   \n",
       "23  Returns a match where the string DOES NOT contain any word characters                                                                     \n",
       "24  Returns a match if the specified characters are at the end of the string                                                                  \n",
       "25  NaN                                                                                                                                       \n",
       "26  NaN                                                                                                                                       \n",
       "27  NaN                                                                                                                                       \n",
       "28  NaN                                                                                                                                       \n",
       "29  NaN                                                                                                                                       \n",
       "30  Description                                                                                                                               \n",
       "31  Returns a match where one of the specified characters (a, r, or n) are present                                                            \n",
       "32  Returns a match for any lower case character, alphabetically between a and n                                                              \n",
       "33  Returns a match for any character EXCEPT a, r, and n                                                                                      \n",
       "34  Returns a match where any of the specified digits (0, 1, 2, or 3) are present                                                             \n",
       "35  Returns a match for any digit between 0 and 9                                                                                             \n",
       "36  Returns a match for any two-digit numbers from 00 and 59                                                                                  \n",
       "37  Returns a match for any character alphabetically between a and z, lower case OR upper case                                                \n",
       "38  In sets, +, *, ., |, (), $,{} has no special meaning, so [+] means: return a match for any + character in the string                      \n",
       "\n",
       "          Example  \n",
       "0   \"[a-m]\"        \n",
       "1   \"\\d\"           \n",
       "2   \"he..o\"        \n",
       "3   \"^hello\"       \n",
       "4   \"world$\"       \n",
       "5   \"aix*\"         \n",
       "6   \"aix+\"         \n",
       "7   \"al{2}\"        \n",
       "8   \"falls|stays\"  \n",
       "9   NaN            \n",
       "10  NaN            \n",
       "11  NaN            \n",
       "12  Example        \n",
       "13  \"\\AThe\"        \n",
       "14  r\"\\bain\"       \n",
       "15  r\"ain\\b\"       \n",
       "16  r\"\\Bain\"       \n",
       "17  r\"ain\\B\"       \n",
       "18  \"\\d\"           \n",
       "19  \"\\D\"           \n",
       "20  \"\\s\"           \n",
       "21  \"\\S\"           \n",
       "22  \"\\w\"           \n",
       "23  \"\\W\"           \n",
       "24  \"Spain\\Z\"      \n",
       "25  NaN            \n",
       "26  NaN            \n",
       "27  NaN            \n",
       "28  NaN            \n",
       "29  NaN            \n",
       "30  NaN            \n",
       "31  NaN            \n",
       "32  NaN            \n",
       "33  NaN            \n",
       "34  NaN            \n",
       "35  NaN            \n",
       "36  NaN            \n",
       "37  NaN            \n",
       "38  NaN            "
      ]
     },
     "execution_count": 134,
     "metadata": {},
     "output_type": "execute_result"
    }
   ],
   "source": [
    "\n",
    "df[['Character','Description','Example']]"
   ]
  },
  {
   "cell_type": "code",
   "execution_count": 18,
   "metadata": {},
   "outputs": [],
   "source": [
    "import re"
   ]
  },
  {
   "cell_type": "code",
   "execution_count": 21,
   "metadata": {},
   "outputs": [],
   "source": [
    "Nameage = \"\"\"\n",
    "Pawan is 27 and Karthik is 24\n",
    "Hemanth is 25 and Yash is 26\n",
    "\"\"\"\n",
    "\n",
    "ages = re.findall(r'\\d{1,3}',Nameage) # to find digits max 1-3 length\n",
    "names = re.findall(r'[A-Z][a-z]*',Nameage) # find string  Starts with Capital letter (A to Z)"
   ]
  },
  {
   "cell_type": "code",
   "execution_count": 28,
   "metadata": {},
   "outputs": [],
   "source": [
    "ageDict = {}\n",
    "x = 0\n",
    "for eachname in names:\n",
    "    ageDict[eachname] = ages[x]\n",
    "    x += 1\n",
    "    "
   ]
  },
  {
   "cell_type": "code",
   "execution_count": 29,
   "metadata": {},
   "outputs": [
    {
     "name": "stdout",
     "output_type": "stream",
     "text": [
      "{'Pawan': '27', 'Karthik': '24', 'Hemanth': '25', 'Yash': '26'}\n"
     ]
    }
   ],
   "source": [
    "print(ageDict)"
   ]
  },
  {
   "cell_type": "code",
   "execution_count": 30,
   "metadata": {},
   "outputs": [],
   "source": [
    "# Cross checking if code working fine"
   ]
  },
  {
   "cell_type": "code",
   "execution_count": 31,
   "metadata": {},
   "outputs": [],
   "source": [
    "a = {}\n",
    "a['pawan'] = 45"
   ]
  },
  {
   "cell_type": "code",
   "execution_count": 32,
   "metadata": {},
   "outputs": [
    {
     "data": {
      "text/plain": [
       "{'pawan': 45}"
      ]
     },
     "execution_count": 32,
     "metadata": {},
     "output_type": "execute_result"
    }
   ],
   "source": [
    "a"
   ]
  },
  {
   "cell_type": "code",
   "execution_count": 33,
   "metadata": {},
   "outputs": [
    {
     "data": {
      "text/plain": [
       "dict"
      ]
     },
     "execution_count": 33,
     "metadata": {},
     "output_type": "execute_result"
    }
   ],
   "source": [
    "type(a)"
   ]
  },
  {
   "cell_type": "markdown",
   "metadata": {},
   "source": [
    "### matching first string in second string"
   ]
  },
  {
   "cell_type": "code",
   "execution_count": 37,
   "metadata": {},
   "outputs": [
    {
     "name": "stdout",
     "output_type": "stream",
     "text": [
      "True\n"
     ]
    }
   ],
   "source": [
    "if re.search(\"inform\",\"we need to inform him with the latest information\"):\n",
    "    print(\"True\")"
   ]
  },
  {
   "cell_type": "markdown",
   "metadata": {},
   "source": [
    "### Findall return a list with macthes"
   ]
  },
  {
   "cell_type": "code",
   "execution_count": 38,
   "metadata": {},
   "outputs": [
    {
     "data": {
      "text/plain": [
       "['inform', 'inform']"
      ]
     },
     "execution_count": 38,
     "metadata": {},
     "output_type": "execute_result"
    }
   ],
   "source": [
    "re.findall(\"inform\",\"we need to inform him with the latest information\")"
   ]
  },
  {
   "cell_type": "markdown",
   "metadata": {},
   "source": [
    "### It will return the starting and ending index of matching object in form of tuple"
   ]
  },
  {
   "cell_type": "code",
   "execution_count": 48,
   "metadata": {},
   "outputs": [
    {
     "name": "stdout",
     "output_type": "stream",
     "text": [
      "(11, 17)\n",
      "<class 'tuple'>\n",
      "(38, 44)\n",
      "<class 'tuple'>\n"
     ]
    }
   ],
   "source": [
    "string = \"we need to inform him with the latest information\"\n",
    "\n",
    "for i in re.finditer(\"inform\",string):\n",
    "    loctup = i.span()\n",
    "    print(loctup)\n",
    "    print(type(loctup))"
   ]
  },
  {
   "cell_type": "code",
   "execution_count": 50,
   "metadata": {},
   "outputs": [
    {
     "name": "stdout",
     "output_type": "stream",
     "text": [
      "<re.Match object; span=(11, 17), match='inform'>\n",
      "(11, 17)\n",
      "<re.Match object; span=(38, 44), match='inform'>\n",
      "(38, 44)\n"
     ]
    }
   ],
   "source": [
    "for i in re.finditer(\"inform\",string):\n",
    "    print(i)\n",
    "    loctup = i.span()\n",
    "    print(loctup)"
   ]
  },
  {
   "cell_type": "markdown",
   "metadata": {},
   "source": [
    "## Finding a pattern"
   ]
  },
  {
   "cell_type": "code",
   "execution_count": 51,
   "metadata": {},
   "outputs": [
    {
     "name": "stdout",
     "output_type": "stream",
     "text": [
      "sat\n",
      "mat\n",
      "hat\n",
      "pat\n"
     ]
    }
   ],
   "source": [
    "text = \"sat,mat,hat,pat\" \n",
    "allstr = re.findall(\"[shmp]at\",text)\n",
    "\n",
    "for i in allstr:\n",
    "    print(i)\n",
    "    \n",
    "# Note: It is case sensitive be carefull with case"
   ]
  },
  {
   "cell_type": "markdown",
   "metadata": {},
   "source": [
    "###  By range"
   ]
  },
  {
   "cell_type": "code",
   "execution_count": 54,
   "metadata": {},
   "outputs": [
    {
     "name": "stdout",
     "output_type": "stream",
     "text": [
      "mat\n",
      "hat\n"
     ]
    }
   ],
   "source": [
    "text = \"sat,mat,hat,pat\" \n",
    "allstr = re.findall(\"[h-m]at\",text) # range between h-m in alphabetic order\n",
    "\n",
    "for i in allstr:\n",
    "    print(i)\n",
    "    \n",
    "# Note: It is case sensitive be carefull with case"
   ]
  },
  {
   "cell_type": "code",
   "execution_count": 55,
   "metadata": {},
   "outputs": [
    {
     "name": "stdout",
     "output_type": "stream",
     "text": [
      "sat\n",
      "mat\n",
      "hat\n",
      "pat\n"
     ]
    }
   ],
   "source": [
    "text = \"sat,mat,hat,pat\" \n",
    "allstr = re.findall(\"[a-z]at\",text) # range between a-z (all considered) in alphabetic order\n",
    "\n",
    "for i in allstr:\n",
    "    print(i)\n",
    "    \n",
    "# Note: It is case sensitive be carefull with case"
   ]
  },
  {
   "cell_type": "markdown",
   "metadata": {},
   "source": [
    "# ^ symbol using for exclude"
   ]
  },
  {
   "cell_type": "code",
   "execution_count": 56,
   "metadata": {},
   "outputs": [
    {
     "name": "stdout",
     "output_type": "stream",
     "text": [
      "sat\n",
      "pat\n"
     ]
    }
   ],
   "source": [
    "text = \"sat,mat,hat,pat\" \n",
    "allstr = re.findall(\"[^h-m]at\",text) # exclude alphabet in h-m range\n",
    "\n",
    "for i in allstr:\n",
    "    print(i)\n",
    "    \n",
    "# Note: It is case sensitive be carefull with case"
   ]
  },
  {
   "cell_type": "markdown",
   "metadata": {},
   "source": [
    "# substitute or repalce"
   ]
  },
  {
   "cell_type": "code",
   "execution_count": 52,
   "metadata": {},
   "outputs": [
    {
     "name": "stdout",
     "output_type": "stream",
     "text": [
      "['rat']\n",
      "hat mat pat food ragat rasat\n"
     ]
    }
   ],
   "source": [
    "food = \"hat mat pat rat ragat rasat\"\n",
    "\n",
    "regex = re.compile(\"[r]at\") #starting char is r and ending with at\n",
    "print(re.findall('[r]at',food))\n",
    "food = regex.sub(\"food\", food) # replace with food word\n",
    "print(food)"
   ]
  },
  {
   "cell_type": "code",
   "execution_count": null,
   "metadata": {},
   "outputs": [],
   "source": []
  },
  {
   "cell_type": "code",
   "execution_count": 64,
   "metadata": {},
   "outputs": [
    {
     "name": "stdout",
     "output_type": "stream",
     "text": [
      "['rat']\n",
      "replaced replaced replaced replaced ragat rasat\n"
     ]
    }
   ],
   "source": [
    "food = \"hat mat pat rat ragat rasat\"\n",
    "\n",
    "regex = re.compile(\"[rmph]at\") #starting char is r/m/p/h and then at\n",
    "print(re.findall('[r]at',food))\n",
    "food = regex.sub(\"replaced\", food) # replace with food word\n",
    "print(food)"
   ]
  },
  {
   "cell_type": "code",
   "execution_count": 71,
   "metadata": {},
   "outputs": [
    {
     "name": "stdout",
     "output_type": "stream",
     "text": [
      "['at', 'at', 'at', 'rat', 'at', 'at']\n",
      "replaced replaced replaced  @ replaced ragreplaced rasreplaced\n"
     ]
    }
   ],
   "source": [
    "food = \"hat mat pat  @ rat ragat rasat\"\n",
    "\n",
    "regex = re.compile(\"[rmph]*at\") #starting char is r/m/p/h + anything + at\n",
    "print(re.findall('[r]*at',food))\n",
    "food = regex.sub(\"replaced\", food) # replace with food word\n",
    "print(food)"
   ]
  },
  {
   "cell_type": "markdown",
   "metadata": {},
   "source": [
    "# regex search , searched everything"
   ]
  },
  {
   "cell_type": "code",
   "execution_count": 72,
   "metadata": {},
   "outputs": [
    {
     "name": "stdout",
     "output_type": "stream",
     "text": [
      "here is \\drogba\n"
     ]
    }
   ],
   "source": [
    "randstr = \"here is \\\\drogba\"\n",
    "print(randstr)"
   ]
  },
  {
   "cell_type": "code",
   "execution_count": 73,
   "metadata": {},
   "outputs": [
    {
     "name": "stdout",
     "output_type": "stream",
     "text": [
      "<re.Match object; span=(8, 15), match='\\\\drogba'>\n"
     ]
    }
   ],
   "source": [
    "print(re.search(r\"\\\\drogba\",randstr))"
   ]
  },
  {
   "cell_type": "markdown",
   "metadata": {},
   "source": [
    "# workout with space and lines"
   ]
  },
  {
   "cell_type": "code",
   "execution_count": 75,
   "metadata": {},
   "outputs": [
    {
     "name": "stdout",
     "output_type": "stream",
     "text": [
      "\n",
      "keep the blue flag\n",
      "flying high\n",
      "chelsea\n",
      "\n",
      "re.compile('\\n')\n",
      " keep the blue flag flying high chelsea \n"
     ]
    }
   ],
   "source": [
    "text = '''\n",
    "keep the blue flag\n",
    "flying high\n",
    "chelsea\n",
    "'''\n",
    "print(text)\n",
    "\n",
    "regex = re.compile('\\n')\n",
    "print(regex)\n",
    "new_text = regex.sub(\" \",text)\n",
    "print(new_text) # Now all lines will come in one line"
   ]
  },
  {
   "cell_type": "markdown",
   "metadata": {},
   "source": [
    "# Matches with number/ not number\n",
    "- \\d for number\n",
    "- \\D except numbers"
   ]
  },
  {
   "cell_type": "code",
   "execution_count": 80,
   "metadata": {},
   "outputs": [
    {
     "name": "stdout",
     "output_type": "stream",
     "text": [
      "total Matches:  ['1', '2', '3', '4']\n",
      "total Matches:  4\n"
     ]
    }
   ],
   "source": [
    "randstr = \"abc1234\"\n",
    "\n",
    "print(\"total Matches: \",re.findall(\"\\d\",randstr))  # searching for numbers in given string\n",
    "\n",
    "print(\"total Matches: \",len(re.findall(\"\\d\",randstr)))\n"
   ]
  },
  {
   "cell_type": "code",
   "execution_count": 82,
   "metadata": {},
   "outputs": [
    {
     "name": "stdout",
     "output_type": "stream",
     "text": [
      "total Matches:  ['a', 'b', 'c', '!', '@', '$']\n",
      "total Matches:  6\n"
     ]
    }
   ],
   "source": [
    "randstr = \"abc!@1234$\"\n",
    "\n",
    "print(\"total Matches: \",(re.findall(\"\\D\",randstr))) # searching except numbers\n",
    "\n",
    "print(\"total Matches: \",len(re.findall(\"\\D\",randstr))) # searching except numbers"
   ]
  },
  {
   "cell_type": "code",
   "execution_count": 93,
   "metadata": {},
   "outputs": [
    {
     "name": "stdout",
     "output_type": "stream",
     "text": [
      "Given String - abc!@12342\n",
      "total Matches:  ['1', '2', '3', '4', '2']\n",
      "total Matches:  5\n",
      "total Matches:  ['12', '34']\n",
      "total Matches:  2\n",
      "total Matches:  ['123']\n",
      "total Matches:  1\n"
     ]
    }
   ],
   "source": [
    "randstr = \"abc!@12342\"\n",
    "\n",
    "print(f\"Given String - {randstr}\")\n",
    "\n",
    "print(\"total Matches: \",(re.findall(\"\\d{1}\",randstr))) # searching number with 1 digits\n",
    "\n",
    "print(\"total Matches: \",len(re.findall(\"\\d{1}\",randstr))) # searching for number with 1 digits\n",
    "\n",
    "# ------------------------------------------------------------------------------------------------------------\n",
    "\n",
    "print(\"total Matches: \",(re.findall(\"\\d{2}\",randstr))) # searching number with 2 digits\n",
    "\n",
    "print(\"total Matches: \",len(re.findall(\"\\d{2}\",randstr))) # searching for number with 2 digits\n",
    "\n",
    "# ------------------------------------------------------------------------------------------------------------\n",
    "\n",
    "print(\"total Matches: \",(re.findall(\"\\d{3}\",randstr))) # searching number with 3 digits\n",
    "\n",
    "print(\"total Matches: \",len(re.findall(\"\\d{3}\",randstr))) # searching for number with 3 digits\n"
   ]
  },
  {
   "cell_type": "code",
   "execution_count": 97,
   "metadata": {},
   "outputs": [
    {
     "name": "stdout",
     "output_type": "stream",
     "text": [
      "Matches:  ['11234', '12345', '123456', '1234567']\n",
      "Matches:  4\n"
     ]
    }
   ],
   "source": [
    "num = \"123 11234 12345 123456 1234567\"\n",
    "\n",
    "print(\"Matches: \",re.findall(\"\\d{5,7}\",num)) # 1st it will searching for 5 digit then 6 digits then 7 digits\n",
    "\n",
    "print(\"Matches: \",len(re.findall(\"\\d{5,7}\",num)))"
   ]
  },
  {
   "cell_type": "markdown",
   "metadata": {},
   "source": [
    "# Phone number recognition"
   ]
  },
  {
   "cell_type": "code",
   "execution_count": 102,
   "metadata": {},
   "outputs": [
    {
     "name": "stdout",
     "output_type": "stream",
     "text": [
      "it is phone number\n"
     ]
    }
   ],
   "source": [
    "phn = \"123-466-1254\" # Pattern\n",
    "\n",
    "if re.search(\"\\d{3}-\\d{3}-\\d{4}\",phn):\n",
    "    print(\"it is phone number\")"
   ]
  },
  {
   "cell_type": "markdown",
   "metadata": {},
   "source": [
    "# full name validation"
   ]
  },
  {
   "cell_type": "code",
   "execution_count": 107,
   "metadata": {},
   "outputs": [
    {
     "name": "stdout",
     "output_type": "stream",
     "text": [
      "full name is valid\n"
     ]
    }
   ],
   "source": [
    "if re.search(\"\\w{2,20}\\s\\w{2,20}\",\"Pawan Yadav\"): #\\s stands for space and w for anything\n",
    "    \n",
    "    print(\"full name is valid\")"
   ]
  },
  {
   "cell_type": "markdown",
   "metadata": {},
   "source": [
    "# email validation"
   ]
  },
  {
   "cell_type": "code",
   "execution_count": 96,
   "metadata": {},
   "outputs": [
    {
     "name": "stdout",
     "output_type": "stream",
     "text": [
      "valid email\n"
     ]
    }
   ],
   "source": [
    "email = \"1abc@gmail.com\"\n",
    "\n",
    "if re.search(\"[\\w._%+-]{1,20}@[a-zA-z].[a-z]{2,3}\",email):\n",
    "    print(\"valid email\")\n",
    "else:\n",
    "    print(\"not valid email\")"
   ]
  },
  {
   "cell_type": "code",
   "execution_count": null,
   "metadata": {},
   "outputs": [],
   "source": []
  }
 ],
 "metadata": {
  "kernelspec": {
   "display_name": "Python 3",
   "language": "python",
   "name": "python3"
  },
  "language_info": {
   "codemirror_mode": {
    "name": "ipython",
    "version": 3
   },
   "file_extension": ".py",
   "mimetype": "text/x-python",
   "name": "python",
   "nbconvert_exporter": "python",
   "pygments_lexer": "ipython3",
   "version": "3.7.3"
  }
 },
 "nbformat": 4,
 "nbformat_minor": 2
}
